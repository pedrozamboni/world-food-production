{
 "cells": [
  {
   "cell_type": "code",
   "execution_count": 66,
   "metadata": {},
   "outputs": [],
   "source": [
    "import os\n",
    "import subprocess\n",
    "import ee\n",
    "import geemap\n",
    "import glob\n",
    "import sys\n",
    "import matplotlib.pyplot as plt\n",
    "import seaborn as sns\n",
    "import pandas as pd\n",
    "import numpy as np"
   ]
  },
  {
   "cell_type": "code",
   "execution_count": 6,
   "metadata": {},
   "outputs": [],
   "source": [
    "try:\n",
    "    ee.Initialize()\n",
    "except Exception as e:\n",
    "    ee.Authenticate()\n",
    "    ee.Initialize()"
   ]
  },
  {
   "cell_type": "code",
   "execution_count": 9,
   "metadata": {},
   "outputs": [],
   "source": [
    "def download_corine_data(year,output_dir):\n",
    "    data_path=os.path.join('COPERNICUS/Landcover/100m/Proba-V-C3/Global',str(y))\n",
    "    dataset = ee.Image(data_path)\n",
    "    landcover = ee.Image(dataset.select('discrete_classification'))\n",
    "    states = ee.FeatureCollection(\"users/giswqs/public/countries\")\n",
    "    nlcd_stats=os.path.join(output_dir,str(year)+'.csv')\n",
    "    \n",
    "    geemap.zonal_statistics_by_group(\n",
    "    landcover,\n",
    "    states,\n",
    "    nlcd_stats,\n",
    "    statistics_type='PERCENTAGE',\n",
    "    denominator=1000000,\n",
    "    decimal_places=2,\n",
    ")\n",
    "    \n"
   ]
  },
  {
   "cell_type": "code",
   "execution_count": 11,
   "metadata": {
    "collapsed": true,
    "jupyter": {
     "outputs_hidden": true
    },
    "tags": []
   },
   "outputs": [
    {
     "name": "stdout",
     "output_type": "stream",
     "text": [
      "Computing ... \n",
      "Generating URL ...\n",
      "Downloading data from https://earthengine.googleapis.com/v1alpha/projects/earthengine-legacy/tables/822607bd2f47b3d1e9d8aadebfe277b1-f9b5fecb57f9be3c8d11ba5907ab1c33:getFeatures\n",
      "Please wait ...\n",
      "Data downloaded to /home/pedrozamboni/Documentos/doutorado/dataset/corine/corine_data/2015.csv\n",
      "Computing ... \n",
      "Generating URL ...\n",
      "Downloading data from https://earthengine.googleapis.com/v1alpha/projects/earthengine-legacy/tables/2d0f7bc7c10ff40e1f44eda2f276b495-c2825d7843491ffaf37f64614564b2a3:getFeatures\n",
      "Please wait ...\n",
      "Data downloaded to /home/pedrozamboni/Documentos/doutorado/dataset/corine/corine_data/2016.csv\n",
      "Computing ... \n",
      "Generating URL ...\n",
      "Downloading data from https://earthengine.googleapis.com/v1alpha/projects/earthengine-legacy/tables/4e8434d24458fac6839eb88802f8ef7b-edeebec2b21cdb4ed405b41b0d9d5a53:getFeatures\n",
      "Please wait ...\n",
      "Data downloaded to /home/pedrozamboni/Documentos/doutorado/dataset/corine/corine_data/2017.csv\n",
      "Computing ... \n",
      "Generating URL ...\n",
      "Downloading data from https://earthengine.googleapis.com/v1alpha/projects/earthengine-legacy/tables/613b3a78e6894c8284e09924a75754a7-d5d593cabe7e67536c9c11f44ff8694f:getFeatures\n",
      "Please wait ...\n",
      "Data downloaded to /home/pedrozamboni/Documentos/doutorado/dataset/corine/corine_data/2018.csv\n",
      "Computing ... \n",
      "Generating URL ...\n",
      "Downloading data from https://earthengine.googleapis.com/v1alpha/projects/earthengine-legacy/tables/4400d7249cf7a47b64f92141d024275d-b9c8f37e81b398df41b2239a9c1521df:getFeatures\n",
      "Please wait ...\n",
      "Data downloaded to /home/pedrozamboni/Documentos/doutorado/dataset/corine/corine_data/2019.csv\n"
     ]
    }
   ],
   "source": [
    "out_dir='/home/pedrozamboni/Documentos/doutorado/dataset/corine/corine_data'\n",
    "\n",
    "year_list=[2015,2016,2017,2018,2019]\n",
    "for y in year_list:\n",
    "    download_corine_data(y,out_dir)\n",
    "    "
   ]
  }
 ],
 "metadata": {
  "kernelspec": {
   "display_name": "gee",
   "language": "python",
   "name": "gee"
  },
  "language_info": {
   "codemirror_mode": {
    "name": "ipython",
    "version": 3
   },
   "file_extension": ".py",
   "mimetype": "text/x-python",
   "name": "python",
   "nbconvert_exporter": "python",
   "pygments_lexer": "ipython3",
   "version": "3.8.5"
  }
 },
 "nbformat": 4,
 "nbformat_minor": 4
}
