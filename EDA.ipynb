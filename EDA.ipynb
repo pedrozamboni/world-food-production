{
 "cells": [
  {
   "cell_type": "code",
   "execution_count": 1,
   "metadata": {},
   "outputs": [],
   "source": [
    "import pandas as pd \n",
    "import numpy as np\n",
    "import matplotlib.pyplot as plt\n",
    "import seaborn as sns\n",
    "import operator\n",
    "import itertools\n",
    "import os"
   ]
  },
  {
   "cell_type": "code",
   "execution_count": 2,
   "metadata": {},
   "outputs": [],
   "source": [
    "path='/home/pedrozamboni/Documentos/doutorado/dataset/corine/Production_Crops_Livestock_E_All_Data/Production_Crops_Livestock_E_All_Data.csv'"
   ]
  },
  {
   "cell_type": "code",
   "execution_count": 3,
   "metadata": {},
   "outputs": [],
   "source": [
    "df = pd.read_csv(path,\n",
    "                  encoding=\"ISO-8859-1\")"
   ]
  },
  {
   "cell_type": "code",
   "execution_count": 4,
   "metadata": {},
   "outputs": [],
   "source": [
    "corine_list=[]\n",
    "for i in [2015,2016,2017,2018,2019]:\n",
    "    path=os.path.join(\"/home/pedrozamboni/Documentos/doutorado/dataset/corine/corine_data/\",str(i)+'.csv')\n",
    "    cf=pd.read_csv(path)\n",
    "    cf=cf.drop(['Class_200','Class_100','Class_20','Class_30','Class_50','Class_60','Class_70', 'Class_sum','Class_0','Class_90','Class_80','system:index','id'],axis=1)\n",
    "    cf['ano']=i\n",
    "    corine_list.append(cf)"
   ]
  },
  {
   "cell_type": "code",
   "execution_count": 5,
   "metadata": {},
   "outputs": [],
   "source": [
    "corine_df =  pd.concat(corine_list,axis=0)\n",
    "corine_df=corine_df.reset_index(drop=True)"
   ]
  },
  {
   "cell_type": "code",
   "execution_count": 6,
   "metadata": {},
   "outputs": [],
   "source": [
    "temp=[]\n",
    "for i in list(df['Area'].unique()):\n",
    "    if i not in list(corine_df['name'].unique()):\n",
    "        temp.append(i)"
   ]
  },
  {
   "cell_type": "code",
   "execution_count": 7,
   "metadata": {
    "tags": []
   },
   "outputs": [
    {
     "name": "stdout",
     "output_type": "stream",
     "text": [
      "Bolivia (Plurinational State of)\n",
      "Iran (Islamic Republic of)\n",
      "Micronesia (Federated States of)\n",
      "Sudan (former)\n",
      "Venezuela (Bolivarian Republic of)\n",
      "European Union (27)\n"
     ]
    }
   ],
   "source": [
    "for i in range(len(df[\"Area\"].unique())):\n",
    "    if '(' in df[\"Area\"].unique()[i]:\n",
    "        print(df[\"Area\"].unique()[i])"
   ]
  },
  {
   "cell_type": "code",
   "execution_count": 8,
   "metadata": {
    "tags": []
   },
   "outputs": [
    {
     "data": {
      "text/plain": [
       "['Afghanistan',\n",
       " 'Albania',\n",
       " 'Algeria',\n",
       " 'Angola',\n",
       " 'Argentina',\n",
       " 'Armenia',\n",
       " 'Australia',\n",
       " 'Austria',\n",
       " 'Azerbaijan',\n",
       " 'Bangladesh',\n",
       " 'Belarus',\n",
       " 'Belgium',\n",
       " 'Belize',\n",
       " 'Benin',\n",
       " 'Bermuda',\n",
       " 'Bhutan',\n",
       " 'Bolivia',\n",
       " 'Bosnia and Herzegovina',\n",
       " 'Botswana',\n",
       " 'Brazil',\n",
       " 'Brunei',\n",
       " 'Bulgaria',\n",
       " 'Burkina Faso',\n",
       " 'Burundi',\n",
       " 'Cambodia',\n",
       " 'Cameroon',\n",
       " 'Canada',\n",
       " 'Central African Republic',\n",
       " 'Chad',\n",
       " 'Chile',\n",
       " 'China',\n",
       " 'Colombia',\n",
       " 'Costa Rica',\n",
       " 'Croatia',\n",
       " 'Cuba',\n",
       " 'Cyprus',\n",
       " 'Czech Republic',\n",
       " 'Democratic Republic of the Congo',\n",
       " 'Denmark',\n",
       " 'Djibouti',\n",
       " 'Dominican Republic',\n",
       " 'East Timor',\n",
       " 'Ecuador',\n",
       " 'Egypt',\n",
       " 'El Salvador',\n",
       " 'Equatorial Guinea',\n",
       " 'Eritrea',\n",
       " 'Estonia',\n",
       " 'Ethiopia',\n",
       " 'Falkland Islands',\n",
       " 'Fiji',\n",
       " 'Finland',\n",
       " 'France',\n",
       " 'French Guiana',\n",
       " 'French Southern and Antarctic Lands',\n",
       " 'Gabon',\n",
       " 'Gambia',\n",
       " 'Georgia',\n",
       " 'Germany',\n",
       " 'Ghana',\n",
       " 'Greece',\n",
       " 'Greenland',\n",
       " 'Guatemala',\n",
       " 'Guinea',\n",
       " 'Guinea Bissau',\n",
       " 'Guyana',\n",
       " 'Haiti',\n",
       " 'Honduras',\n",
       " 'Hungary',\n",
       " 'Iceland',\n",
       " 'India',\n",
       " 'Indonesia',\n",
       " 'Iran',\n",
       " 'Iraq',\n",
       " 'Ireland',\n",
       " 'Israel',\n",
       " 'Italy',\n",
       " 'Ivory Coast',\n",
       " 'Jamaica',\n",
       " 'Japan',\n",
       " 'Jordan',\n",
       " 'Kazakhstan',\n",
       " 'Kenya',\n",
       " 'Kosovo',\n",
       " 'Kuwait',\n",
       " 'Kyrgyzstan',\n",
       " 'Laos',\n",
       " 'Latvia',\n",
       " 'Lebanon',\n",
       " 'Lesotho',\n",
       " 'Liberia',\n",
       " 'Libya',\n",
       " 'Lithuania',\n",
       " 'Luxembourg',\n",
       " 'Macedonia',\n",
       " 'Madagascar',\n",
       " 'Malawi',\n",
       " 'Malaysia',\n",
       " 'Mali',\n",
       " 'Malta',\n",
       " 'Mauritania',\n",
       " 'Mexico',\n",
       " 'Moldova',\n",
       " 'Mongolia',\n",
       " 'Montenegro',\n",
       " 'Morocco',\n",
       " 'Mozambique',\n",
       " 'Myanmar',\n",
       " 'Namibia',\n",
       " 'Nepal',\n",
       " 'Netherlands',\n",
       " 'New Caledonia',\n",
       " 'New Zealand',\n",
       " 'Nicaragua',\n",
       " 'Niger',\n",
       " 'Nigeria',\n",
       " 'North Korea',\n",
       " 'Northern Cyprus',\n",
       " 'Norway',\n",
       " 'Oman',\n",
       " 'Pakistan',\n",
       " 'Panama',\n",
       " 'Papua New Guinea',\n",
       " 'Paraguay',\n",
       " 'Peru',\n",
       " 'Philippines',\n",
       " 'Poland',\n",
       " 'Portugal',\n",
       " 'Puerto Rico',\n",
       " 'Qatar',\n",
       " 'Republic of Serbia',\n",
       " 'Republic of the Congo',\n",
       " 'Romania',\n",
       " 'Russia',\n",
       " 'Rwanda',\n",
       " 'Saudi Arabia',\n",
       " 'Senegal',\n",
       " 'Sierra Leone',\n",
       " 'Slovakia',\n",
       " 'Slovenia',\n",
       " 'Solomon Islands',\n",
       " 'Somalia',\n",
       " 'Somaliland',\n",
       " 'South Africa',\n",
       " 'South Korea',\n",
       " 'South Sudan',\n",
       " 'Spain',\n",
       " 'Sri Lanka',\n",
       " 'Sudan',\n",
       " 'Suriname',\n",
       " 'Swaziland',\n",
       " 'Sweden',\n",
       " 'Switzerland',\n",
       " 'Syria',\n",
       " 'Taiwan',\n",
       " 'Tajikistan',\n",
       " 'Thailand',\n",
       " 'The Bahamas',\n",
       " 'Togo',\n",
       " 'Trinidad and Tobago',\n",
       " 'Tunisia',\n",
       " 'Turkey',\n",
       " 'Turkmenistan',\n",
       " 'Uganda',\n",
       " 'Ukraine',\n",
       " 'United Arab Emirates',\n",
       " 'United Kingdom',\n",
       " 'United Republic of Tanzania',\n",
       " 'United States of America',\n",
       " 'Uruguay',\n",
       " 'Uzbekistan',\n",
       " 'Vanuatu',\n",
       " 'Venezuela',\n",
       " 'Vietnam',\n",
       " 'West Bank',\n",
       " 'Western Sahara',\n",
       " 'Yemen',\n",
       " 'Zambia',\n",
       " 'Zimbabwe']"
      ]
     },
     "execution_count": 8,
     "metadata": {},
     "output_type": "execute_result"
    }
   ],
   "source": [
    "sorted(corine_df['name'].unique())"
   ]
  },
  {
   "cell_type": "markdown",
   "metadata": {},
   "source": [
    "Precisamos arrumar os nomes da Fao e verificar se tem todos na corine \n",
    "Vamos corrigir os paises que tem \"(\" no nome ;\n",
    "Alem desses os seguintes paises serao corrigidos:  \"Democratic People's Republic of Korea\",'Ethiopia PDR', \n",
    "'Republic of Korea','Russian Federation','Syrian Arab Republic', 'United Kingdom of Great Britain and Northern Ireland',\n",
    " 'Viet Nam',\n",
    "Os outros paises nao serao considerados"
   ]
  },
  {
   "cell_type": "code",
   "execution_count": 9,
   "metadata": {},
   "outputs": [],
   "source": [
    "###Criando dicionario para os outros paise\n",
    "replacer2={\"Bolivia (Plurinational State of)\":'Bolivia',\n",
    "        \"Iran (Islamic Republic of)\":'Iran',\n",
    "        \"Sudan (former)\":'Sudan',\n",
    "        \"Venezuela (Bolivarian Republic of)\":\"Venezuela\",\n",
    "            \"Democratic People's Republic of Korea\": 'North Korea',\n",
    "            'Ethiopia PDR':'Ethiopia', \n",
    "            'Republic of Korea': 'South Korea',\n",
    "            'Russian Federation':'Russia',\n",
    "           'Syrian Arab Republic':'Syria',\n",
    "           'United Kingdom of Great Britain and Northern Ireland':'United Kingdom',\n",
    "             'Viet Nam':'Vietnam'}"
   ]
  },
  {
   "cell_type": "code",
   "execution_count": 10,
   "metadata": {},
   "outputs": [],
   "source": [
    "df=df.replace({\"Area\": replacer2})"
   ]
  },
  {
   "cell_type": "code",
   "execution_count": 11,
   "metadata": {},
   "outputs": [],
   "source": [
    "temp2=[]\n",
    "for i in list(df['Area'].unique()):\n",
    "    if i not in list(corine_df['name'].unique()):\n",
    "        temp2.append(i)"
   ]
  },
  {
   "cell_type": "code",
   "execution_count": 12,
   "metadata": {
    "tags": []
   },
   "outputs": [
    {
     "data": {
      "text/plain": [
       "['Antigua and Barbuda',\n",
       " 'Bahamas',\n",
       " 'Bahrain',\n",
       " 'Barbados',\n",
       " 'Belgium-Luxembourg',\n",
       " 'Brunei Darussalam',\n",
       " 'Cabo Verde',\n",
       " 'China, Hong Kong SAR',\n",
       " 'China, Macao SAR',\n",
       " 'China, mainland',\n",
       " 'China, Taiwan Province of',\n",
       " 'Comoros',\n",
       " 'Congo',\n",
       " 'Cook Islands',\n",
       " \"Côte d'Ivoire\",\n",
       " 'Czechia',\n",
       " 'Czechoslovakia',\n",
       " 'Dominica',\n",
       " 'Eswatini',\n",
       " 'Faroe Islands',\n",
       " 'French Guyana',\n",
       " 'French Polynesia',\n",
       " 'Grenada',\n",
       " 'Guadeloupe',\n",
       " 'Guinea-Bissau',\n",
       " 'Kiribati',\n",
       " \"Lao People's Democratic Republic\",\n",
       " 'Maldives',\n",
       " 'Marshall Islands',\n",
       " 'Martinique',\n",
       " 'Mauritius',\n",
       " 'Micronesia (Federated States of)',\n",
       " 'Nauru',\n",
       " 'Niue',\n",
       " 'North Macedonia',\n",
       " 'Palestine',\n",
       " 'Republic of Moldova',\n",
       " 'Réunion',\n",
       " 'Saint Kitts and Nevis',\n",
       " 'Saint Lucia',\n",
       " 'Saint Vincent and the Grenadines',\n",
       " 'Samoa',\n",
       " 'Sao Tome and Principe',\n",
       " 'Serbia',\n",
       " 'Serbia and Montenegro',\n",
       " 'Seychelles',\n",
       " 'Singapore',\n",
       " 'Timor-Leste',\n",
       " 'Tokelau',\n",
       " 'Tonga',\n",
       " 'Tuvalu',\n",
       " 'USSR',\n",
       " 'Yugoslav SFR',\n",
       " 'World',\n",
       " 'Africa',\n",
       " 'Eastern Africa',\n",
       " 'Middle Africa',\n",
       " 'Northern Africa',\n",
       " 'Southern Africa',\n",
       " 'Western Africa',\n",
       " 'Americas',\n",
       " 'Northern America',\n",
       " 'Central America',\n",
       " 'Caribbean',\n",
       " 'South America',\n",
       " 'Asia',\n",
       " 'Central Asia',\n",
       " 'Eastern Asia',\n",
       " 'Southern Asia',\n",
       " 'South-eastern Asia',\n",
       " 'Western Asia',\n",
       " 'Europe',\n",
       " 'Eastern Europe',\n",
       " 'Northern Europe',\n",
       " 'Southern Europe',\n",
       " 'Western Europe',\n",
       " 'Oceania',\n",
       " 'Australia and New Zealand',\n",
       " 'Melanesia',\n",
       " 'Micronesia',\n",
       " 'Polynesia',\n",
       " 'European Union (27)',\n",
       " 'Least Developed Countries',\n",
       " 'Land Locked Developing Countries',\n",
       " 'Small Island Developing States',\n",
       " 'Low Income Food Deficit Countries',\n",
       " 'Net Food Importing Developing Countries']"
      ]
     },
     "execution_count": 12,
     "metadata": {},
     "output_type": "execute_result"
    }
   ],
   "source": [
    "####Paises que tem nos dados da Fao mas nao tem na corine \n",
    "### Iremos ignorar esses paises\n",
    "### Para china iremos usar o calor china dos dados da FAO e ignorar as outras chinas\n",
    "temp2"
   ]
  },
  {
   "cell_type": "code",
   "execution_count": 13,
   "metadata": {},
   "outputs": [],
   "source": [
    "def get_data(df,item,element):\n",
    "    \n",
    "    ano_int = lambda x: int(x.replace('Y',''))\n",
    "   \n",
    "    df= df[(df['Item']==item) & (df['Element']==element)]\n",
    "    df=df.drop(['Item','Area Code','Item Code','Element Code','Element','Unit'],axis=1)\n",
    "    df=df.reset_index(drop=True)\n",
    "    df=df.T.reset_index()\n",
    "    df.columns=df.iloc[0]\n",
    "    df2=df.rename({'Area': 'data'}, axis=1) \n",
    "\n",
    "    df2=df2[1:]\n",
    "    df2=df2.iloc[::2]\n",
    "    df2['Ano']=df2['data'].map(ano_int)\n",
    "    df2=df2.drop('data',axis=1).apply(pd.to_numeric)\n",
    "    df2=df2.set_index('Ano')\n",
    "\n",
    "    return df2\n",
    "   \n",
    "        "
   ]
  },
  {
   "cell_type": "code",
   "execution_count": 14,
   "metadata": {
    "tags": []
   },
   "outputs": [
    {
     "data": {
      "text/plain": [
       "array(['Afghanistan', 'Albania', 'Algeria', 'Angola',\n",
       "       'Antigua and Barbuda', 'Argentina', 'Armenia', 'Australia',\n",
       "       'Austria', 'Azerbaijan', 'Bahamas', 'Bahrain', 'Bangladesh',\n",
       "       'Barbados', 'Belarus', 'Belgium', 'Belgium-Luxembourg', 'Belize',\n",
       "       'Benin', 'Bhutan', 'Bolivia', 'Bosnia and Herzegovina', 'Botswana',\n",
       "       'Brazil', 'Brunei Darussalam', 'Bulgaria', 'Burkina Faso',\n",
       "       'Burundi', 'Cabo Verde', 'Cambodia', 'Cameroon', 'Canada',\n",
       "       'Central African Republic', 'Chad', 'Chile', 'China',\n",
       "       'China, Hong Kong SAR', 'China, Macao SAR', 'China, mainland',\n",
       "       'China, Taiwan Province of', 'Colombia', 'Comoros', 'Congo',\n",
       "       'Cook Islands', 'Costa Rica', \"Côte d'Ivoire\", 'Croatia', 'Cuba',\n",
       "       'Cyprus', 'Czechia', 'Czechoslovakia', 'North Korea',\n",
       "       'Democratic Republic of the Congo', 'Denmark', 'Djibouti',\n",
       "       'Dominica', 'Dominican Republic', 'Ecuador', 'Egypt',\n",
       "       'El Salvador', 'Equatorial Guinea', 'Eritrea', 'Estonia',\n",
       "       'Eswatini', 'Ethiopia', 'Faroe Islands', 'Fiji', 'Finland',\n",
       "       'France', 'French Guyana', 'French Polynesia', 'Gabon', 'Gambia',\n",
       "       'Georgia', 'Germany', 'Ghana', 'Greece', 'Grenada', 'Guadeloupe',\n",
       "       'Guatemala', 'Guinea', 'Guinea-Bissau', 'Guyana', 'Haiti',\n",
       "       'Honduras', 'Hungary', 'Iceland', 'India', 'Indonesia', 'Iran',\n",
       "       'Iraq', 'Ireland', 'Israel', 'Italy', 'Jamaica', 'Japan', 'Jordan',\n",
       "       'Kazakhstan', 'Kenya', 'Kiribati', 'Kuwait', 'Kyrgyzstan',\n",
       "       \"Lao People's Democratic Republic\", 'Latvia', 'Lebanon', 'Lesotho',\n",
       "       'Liberia', 'Libya', 'Lithuania', 'Luxembourg', 'Madagascar',\n",
       "       'Malawi', 'Malaysia', 'Maldives', 'Mali', 'Malta',\n",
       "       'Marshall Islands', 'Martinique', 'Mauritania', 'Mauritius',\n",
       "       'Mexico', 'Micronesia (Federated States of)', 'Mongolia',\n",
       "       'Montenegro', 'Morocco', 'Mozambique', 'Myanmar', 'Namibia',\n",
       "       'Nauru', 'Nepal', 'Netherlands', 'New Caledonia', 'New Zealand',\n",
       "       'Nicaragua', 'Niger', 'Nigeria', 'Niue', 'North Macedonia',\n",
       "       'Norway', 'Oman', 'Pakistan', 'Palestine', 'Panama',\n",
       "       'Papua New Guinea', 'Paraguay', 'Peru', 'Philippines', 'Poland',\n",
       "       'Portugal', 'Puerto Rico', 'Qatar', 'South Korea',\n",
       "       'Republic of Moldova', 'Réunion', 'Romania', 'Russia', 'Rwanda',\n",
       "       'Saint Kitts and Nevis', 'Saint Lucia',\n",
       "       'Saint Vincent and the Grenadines', 'Samoa',\n",
       "       'Sao Tome and Principe', 'Saudi Arabia', 'Senegal', 'Serbia',\n",
       "       'Serbia and Montenegro', 'Seychelles', 'Sierra Leone', 'Singapore',\n",
       "       'Slovakia', 'Slovenia', 'Solomon Islands', 'Somalia',\n",
       "       'South Africa', 'South Sudan', 'Spain', 'Sri Lanka', 'Sudan',\n",
       "       'Suriname', 'Sweden', 'Switzerland', 'Syria', 'Tajikistan',\n",
       "       'Thailand', 'Timor-Leste', 'Togo', 'Tokelau', 'Tonga',\n",
       "       'Trinidad and Tobago', 'Tunisia', 'Turkey', 'Turkmenistan',\n",
       "       'Tuvalu', 'Uganda', 'Ukraine', 'United Arab Emirates',\n",
       "       'United Kingdom', 'United Republic of Tanzania',\n",
       "       'United States of America', 'Uruguay', 'USSR', 'Uzbekistan',\n",
       "       'Vanuatu', 'Venezuela', 'Vietnam', 'Yemen', 'Yugoslav SFR',\n",
       "       'Zambia', 'Zimbabwe', 'World', 'Africa', 'Eastern Africa',\n",
       "       'Middle Africa', 'Northern Africa', 'Southern Africa',\n",
       "       'Western Africa', 'Americas', 'Northern America',\n",
       "       'Central America', 'Caribbean', 'South America', 'Asia',\n",
       "       'Central Asia', 'Eastern Asia', 'Southern Asia',\n",
       "       'South-eastern Asia', 'Western Asia', 'Europe', 'Eastern Europe',\n",
       "       'Northern Europe', 'Southern Europe', 'Western Europe', 'Oceania',\n",
       "       'Australia and New Zealand', 'Melanesia', 'Micronesia',\n",
       "       'Polynesia', 'European Union (27)', 'Least Developed Countries',\n",
       "       'Land Locked Developing Countries',\n",
       "       'Small Island Developing States',\n",
       "       'Low Income Food Deficit Countries',\n",
       "       'Net Food Importing Developing Countries'], dtype=object)"
      ]
     },
     "execution_count": 14,
     "metadata": {},
     "output_type": "execute_result"
    }
   ],
   "source": [
    "df['Area'].unique()"
   ]
  },
  {
   "cell_type": "markdown",
   "metadata": {
    "jupyter": {
     "outputs_hidden": true
    },
    "tags": []
   },
   "source": [
    "Como podemos ver, no Dataframe temos areas para alem dos paises, como continentes \n",
    "Vamos separa os paises do resto "
   ]
  },
  {
   "cell_type": "code",
   "execution_count": 15,
   "metadata": {},
   "outputs": [],
   "source": [
    "countris_list= df['Area'].unique()[0:209]\n",
    "continent_list=df['Area'].unique()[209:]"
   ]
  },
  {
   "cell_type": "markdown",
   "metadata": {},
   "source": [
    "Craindo dicionario com os valores de produção por alimento e pais "
   ]
  },
  {
   "cell_type": "code",
   "execution_count": 16,
   "metadata": {},
   "outputs": [],
   "source": [
    "prod_dict={}\n",
    "\n",
    "item_list=['Wheat','Maize','Rice, paddy','Soybeans']\n",
    "for i in item_list:\n",
    "    paises_alimento = np.array(get_data(df,i,'Production').columns.to_list())[0:np.where(np.array(get_data(df,i,'Production').columns.to_list())=='World')[0][0]]\n",
    "    temp_dict={}\n",
    "    for c in paises_alimento:\n",
    "        temp_dict[c]=get_data(df,i,'Production')[c][-6:]\n",
    "    \n",
    "    prod_dict[i]=temp_dict"
   ]
  },
  {
   "cell_type": "markdown",
   "metadata": {},
   "source": [
    "###Vamos checar se os valores estao corretos "
   ]
  },
  {
   "cell_type": "code",
   "execution_count": 17,
   "metadata": {},
   "outputs": [
    {
     "data": {
      "text/plain": [
       "Ano\n",
       "2015    5508451.0\n",
       "2016    6834421.0\n",
       "2017    4342812.0\n",
       "2018    5469236.0\n",
       "2019    5590815.0\n",
       "2020    6347987.0\n",
       "Name: Brazil, dtype: float64"
      ]
     },
     "execution_count": 17,
     "metadata": {},
     "output_type": "execute_result"
    }
   ],
   "source": [
    "prod_dict['Wheat']['Brazil']"
   ]
  },
  {
   "cell_type": "code",
   "execution_count": 18,
   "metadata": {},
   "outputs": [
    {
     "data": {
      "text/html": [
       "<div>\n",
       "<style scoped>\n",
       "    .dataframe tbody tr th:only-of-type {\n",
       "        vertical-align: middle;\n",
       "    }\n",
       "\n",
       "    .dataframe tbody tr th {\n",
       "        vertical-align: top;\n",
       "    }\n",
       "\n",
       "    .dataframe thead th {\n",
       "        text-align: right;\n",
       "    }\n",
       "</style>\n",
       "<table border=\"1\" class=\"dataframe\">\n",
       "  <thead>\n",
       "    <tr style=\"text-align: right;\">\n",
       "      <th></th>\n",
       "      <th>Area Code</th>\n",
       "      <th>Area</th>\n",
       "      <th>Item Code</th>\n",
       "      <th>Item</th>\n",
       "      <th>Element Code</th>\n",
       "      <th>Element</th>\n",
       "      <th>Unit</th>\n",
       "      <th>Y1961</th>\n",
       "      <th>Y1961F</th>\n",
       "      <th>Y1962</th>\n",
       "      <th>...</th>\n",
       "      <th>Y2016</th>\n",
       "      <th>Y2016F</th>\n",
       "      <th>Y2017</th>\n",
       "      <th>Y2017F</th>\n",
       "      <th>Y2018</th>\n",
       "      <th>Y2018F</th>\n",
       "      <th>Y2019</th>\n",
       "      <th>Y2019F</th>\n",
       "      <th>Y2020</th>\n",
       "      <th>Y2020F</th>\n",
       "    </tr>\n",
       "  </thead>\n",
       "  <tbody>\n",
       "    <tr>\n",
       "      <th>6833</th>\n",
       "      <td>21</td>\n",
       "      <td>Brazil</td>\n",
       "      <td>15</td>\n",
       "      <td>Wheat</td>\n",
       "      <td>5312</td>\n",
       "      <td>Area harvested</td>\n",
       "      <td>ha</td>\n",
       "      <td>1022234.0</td>\n",
       "      <td>NaN</td>\n",
       "      <td>743459.0</td>\n",
       "      <td>...</td>\n",
       "      <td>2166170.0</td>\n",
       "      <td>NaN</td>\n",
       "      <td>1905617.0</td>\n",
       "      <td>NaN</td>\n",
       "      <td>2080204.0</td>\n",
       "      <td>NaN</td>\n",
       "      <td>2103578.0</td>\n",
       "      <td>NaN</td>\n",
       "      <td>2434703.0</td>\n",
       "      <td>NaN</td>\n",
       "    </tr>\n",
       "    <tr>\n",
       "      <th>6834</th>\n",
       "      <td>21</td>\n",
       "      <td>Brazil</td>\n",
       "      <td>15</td>\n",
       "      <td>Wheat</td>\n",
       "      <td>5419</td>\n",
       "      <td>Yield</td>\n",
       "      <td>hg/ha</td>\n",
       "      <td>5330.0</td>\n",
       "      <td>Fc</td>\n",
       "      <td>9491.0</td>\n",
       "      <td>...</td>\n",
       "      <td>31551.0</td>\n",
       "      <td>Fc</td>\n",
       "      <td>22790.0</td>\n",
       "      <td>Fc</td>\n",
       "      <td>26292.0</td>\n",
       "      <td>Fc</td>\n",
       "      <td>26578.0</td>\n",
       "      <td>Fc</td>\n",
       "      <td>26073.0</td>\n",
       "      <td>Fc</td>\n",
       "    </tr>\n",
       "    <tr>\n",
       "      <th>6835</th>\n",
       "      <td>21</td>\n",
       "      <td>Brazil</td>\n",
       "      <td>15</td>\n",
       "      <td>Wheat</td>\n",
       "      <td>5510</td>\n",
       "      <td>Production</td>\n",
       "      <td>tonnes</td>\n",
       "      <td>544858.0</td>\n",
       "      <td>NaN</td>\n",
       "      <td>705619.0</td>\n",
       "      <td>...</td>\n",
       "      <td>6834421.0</td>\n",
       "      <td>NaN</td>\n",
       "      <td>4342812.0</td>\n",
       "      <td>NaN</td>\n",
       "      <td>5469236.0</td>\n",
       "      <td>NaN</td>\n",
       "      <td>5590815.0</td>\n",
       "      <td>NaN</td>\n",
       "      <td>6347987.0</td>\n",
       "      <td>NaN</td>\n",
       "    </tr>\n",
       "  </tbody>\n",
       "</table>\n",
       "<p>3 rows × 127 columns</p>\n",
       "</div>"
      ],
      "text/plain": [
       "      Area Code    Area  Item Code   Item  Element Code         Element  \\\n",
       "6833         21  Brazil         15  Wheat          5312  Area harvested   \n",
       "6834         21  Brazil         15  Wheat          5419           Yield   \n",
       "6835         21  Brazil         15  Wheat          5510      Production   \n",
       "\n",
       "        Unit      Y1961 Y1961F     Y1962  ...      Y2016  Y2016F      Y2017  \\\n",
       "6833      ha  1022234.0    NaN  743459.0  ...  2166170.0     NaN  1905617.0   \n",
       "6834   hg/ha     5330.0     Fc    9491.0  ...    31551.0      Fc    22790.0   \n",
       "6835  tonnes   544858.0    NaN  705619.0  ...  6834421.0     NaN  4342812.0   \n",
       "\n",
       "      Y2017F      Y2018  Y2018F      Y2019  Y2019F      Y2020  Y2020F  \n",
       "6833     NaN  2080204.0     NaN  2103578.0     NaN  2434703.0     NaN  \n",
       "6834      Fc    26292.0      Fc    26578.0      Fc    26073.0      Fc  \n",
       "6835     NaN  5469236.0     NaN  5590815.0     NaN  6347987.0     NaN  \n",
       "\n",
       "[3 rows x 127 columns]"
      ]
     },
     "execution_count": 18,
     "metadata": {},
     "output_type": "execute_result"
    }
   ],
   "source": [
    "df.loc[df['Area']=='Brazil'].loc[df.loc[df['Area']=='Brazil']['Item']=='Wheat']"
   ]
  },
  {
   "cell_type": "code",
   "execution_count": 19,
   "metadata": {},
   "outputs": [
    {
     "data": {
      "text/plain": [
       "Ano\n",
       "2015    11785000.0\n",
       "2016    12788894.0\n",
       "2017    15282500.0\n",
       "2018    15967100.0\n",
       "2019    18100000.0\n",
       "2020    19600000.0\n",
       "Name: China, mainland, dtype: float64"
      ]
     },
     "execution_count": 19,
     "metadata": {},
     "output_type": "execute_result"
    }
   ],
   "source": [
    "prod_dict['Soybeans']['China, mainland']"
   ]
  },
  {
   "cell_type": "code",
   "execution_count": 20,
   "metadata": {},
   "outputs": [
    {
     "data": {
      "text/html": [
       "<div>\n",
       "<style scoped>\n",
       "    .dataframe tbody tr th:only-of-type {\n",
       "        vertical-align: middle;\n",
       "    }\n",
       "\n",
       "    .dataframe tbody tr th {\n",
       "        vertical-align: top;\n",
       "    }\n",
       "\n",
       "    .dataframe thead th {\n",
       "        text-align: right;\n",
       "    }\n",
       "</style>\n",
       "<table border=\"1\" class=\"dataframe\">\n",
       "  <thead>\n",
       "    <tr style=\"text-align: right;\">\n",
       "      <th></th>\n",
       "      <th>Area Code</th>\n",
       "      <th>Area</th>\n",
       "      <th>Item Code</th>\n",
       "      <th>Item</th>\n",
       "      <th>Element Code</th>\n",
       "      <th>Element</th>\n",
       "      <th>Unit</th>\n",
       "      <th>Y1961</th>\n",
       "      <th>Y1961F</th>\n",
       "      <th>Y1962</th>\n",
       "      <th>...</th>\n",
       "      <th>Y2016</th>\n",
       "      <th>Y2016F</th>\n",
       "      <th>Y2017</th>\n",
       "      <th>Y2017F</th>\n",
       "      <th>Y2018</th>\n",
       "      <th>Y2018F</th>\n",
       "      <th>Y2019</th>\n",
       "      <th>Y2019F</th>\n",
       "      <th>Y2020</th>\n",
       "      <th>Y2020F</th>\n",
       "    </tr>\n",
       "  </thead>\n",
       "  <tbody>\n",
       "    <tr>\n",
       "      <th>11128</th>\n",
       "      <td>41</td>\n",
       "      <td>China, mainland</td>\n",
       "      <td>236</td>\n",
       "      <td>Soybeans</td>\n",
       "      <td>5312</td>\n",
       "      <td>Area harvested</td>\n",
       "      <td>ha</td>\n",
       "      <td>9947000.0</td>\n",
       "      <td>NaN</td>\n",
       "      <td>9494500.0</td>\n",
       "      <td>...</td>\n",
       "      <td>7092736.0</td>\n",
       "      <td>F</td>\n",
       "      <td>8244810.0</td>\n",
       "      <td>NaN</td>\n",
       "      <td>8412770.0</td>\n",
       "      <td>NaN</td>\n",
       "      <td>9300000.0</td>\n",
       "      <td>NaN</td>\n",
       "      <td>9866000.0</td>\n",
       "      <td>NaN</td>\n",
       "    </tr>\n",
       "    <tr>\n",
       "      <th>11129</th>\n",
       "      <td>41</td>\n",
       "      <td>China, mainland</td>\n",
       "      <td>236</td>\n",
       "      <td>Soybeans</td>\n",
       "      <td>5419</td>\n",
       "      <td>Yield</td>\n",
       "      <td>hg/ha</td>\n",
       "      <td>6243.0</td>\n",
       "      <td>Fc</td>\n",
       "      <td>6857.0</td>\n",
       "      <td>...</td>\n",
       "      <td>18031.0</td>\n",
       "      <td>Fc</td>\n",
       "      <td>18536.0</td>\n",
       "      <td>Fc</td>\n",
       "      <td>18980.0</td>\n",
       "      <td>Fc</td>\n",
       "      <td>19462.0</td>\n",
       "      <td>Fc</td>\n",
       "      <td>19866.0</td>\n",
       "      <td>Fc</td>\n",
       "    </tr>\n",
       "    <tr>\n",
       "      <th>11130</th>\n",
       "      <td>41</td>\n",
       "      <td>China, mainland</td>\n",
       "      <td>236</td>\n",
       "      <td>Soybeans</td>\n",
       "      <td>5510</td>\n",
       "      <td>Production</td>\n",
       "      <td>tonnes</td>\n",
       "      <td>6210000.0</td>\n",
       "      <td>NaN</td>\n",
       "      <td>6510000.0</td>\n",
       "      <td>...</td>\n",
       "      <td>12788894.0</td>\n",
       "      <td>F</td>\n",
       "      <td>15282500.0</td>\n",
       "      <td>NaN</td>\n",
       "      <td>15967100.0</td>\n",
       "      <td>NaN</td>\n",
       "      <td>18100000.0</td>\n",
       "      <td>NaN</td>\n",
       "      <td>19600000.0</td>\n",
       "      <td>NaN</td>\n",
       "    </tr>\n",
       "  </tbody>\n",
       "</table>\n",
       "<p>3 rows × 127 columns</p>\n",
       "</div>"
      ],
      "text/plain": [
       "       Area Code             Area  Item Code      Item  Element Code  \\\n",
       "11128         41  China, mainland        236  Soybeans          5312   \n",
       "11129         41  China, mainland        236  Soybeans          5419   \n",
       "11130         41  China, mainland        236  Soybeans          5510   \n",
       "\n",
       "              Element    Unit      Y1961 Y1961F      Y1962  ...       Y2016  \\\n",
       "11128  Area harvested      ha  9947000.0    NaN  9494500.0  ...   7092736.0   \n",
       "11129           Yield   hg/ha     6243.0     Fc     6857.0  ...     18031.0   \n",
       "11130      Production  tonnes  6210000.0    NaN  6510000.0  ...  12788894.0   \n",
       "\n",
       "       Y2016F       Y2017  Y2017F       Y2018  Y2018F       Y2019  Y2019F  \\\n",
       "11128       F   8244810.0     NaN   8412770.0     NaN   9300000.0     NaN   \n",
       "11129      Fc     18536.0      Fc     18980.0      Fc     19462.0      Fc   \n",
       "11130       F  15282500.0     NaN  15967100.0     NaN  18100000.0     NaN   \n",
       "\n",
       "            Y2020  Y2020F  \n",
       "11128   9866000.0     NaN  \n",
       "11129     19866.0      Fc  \n",
       "11130  19600000.0     NaN  \n",
       "\n",
       "[3 rows x 127 columns]"
      ]
     },
     "execution_count": 20,
     "metadata": {},
     "output_type": "execute_result"
    }
   ],
   "source": [
    "df.loc[df['Area']=='China, mainland'].loc[df.loc[df['Area']=='China, mainland']['Item']=='Soybeans']"
   ]
  },
  {
   "cell_type": "markdown",
   "metadata": {},
   "source": [
    "Vamos criar um dicionario com o somatorio dos 4 alimentos para cada pais"
   ]
  },
  {
   "cell_type": "code",
   "execution_count": 21,
   "metadata": {},
   "outputs": [],
   "source": [
    "item_list=['Wheat','Maize','Rice, paddy','Soybeans']\n",
    "world_prod={}\n",
    "for w in sorted(countris_list) :\n",
    "    temp_list=[]\n",
    "    for c in [2015,2016,2017,2018,2019]:\n",
    "        soma=0\n",
    "        for i in item_list:\n",
    "            try:\n",
    "                x=prod_dict[i][w][c]\n",
    "                soma=soma+x\n",
    "            except:\n",
    "                pass\n",
    "        temp_list.append(soma)\n",
    "    \n",
    "    world_prod[w]=temp_list"
   ]
  },
  {
   "cell_type": "markdown",
   "metadata": {},
   "source": [
    "Vamos fazer a soma das classes de foresta no dataframe corine"
   ]
  },
  {
   "cell_type": "code",
   "execution_count": 22,
   "metadata": {},
   "outputs": [],
   "source": [
    "corine_df['forest']=corine_df[corine_df.columns.tolist()[1:13]].sum(axis=1)"
   ]
  },
  {
   "cell_type": "code",
   "execution_count": 23,
   "metadata": {},
   "outputs": [],
   "source": [
    "norm=world_prod['China'][4]\n"
   ]
  },
  {
   "cell_type": "markdown",
   "metadata": {},
   "source": [
    "Vamos ver o valor de P para 2015 para os paises"
   ]
  },
  {
   "cell_type": "code",
   "execution_count": 24,
   "metadata": {},
   "outputs": [],
   "source": [
    "p_dict={}\n",
    "for i in list(countris_list):\n",
    "    temp=[]\n",
    "    for j in list(range(5)):\n",
    "        p=world_prod[i][j]/norm\n",
    "        temp.append(p)\n",
    "    p_dict[i]=temp"
   ]
  },
  {
   "cell_type": "code",
   "execution_count": 25,
   "metadata": {
    "tags": []
   },
   "outputs": [],
   "source": [
    "a_dict={}\n",
    "for i in list(countris_list):\n",
    "    if i in corine_df['name'].unique():\n",
    "        temp=[]\n",
    "        for j in list(range(5)):\n",
    "            a=float(corine_df.loc[corine_df['name']==i].iloc[j]['Class_40'])\n",
    "            temp.append(a)\n",
    "        a_dict[i]=temp"
   ]
  },
  {
   "cell_type": "code",
   "execution_count": 26,
   "metadata": {},
   "outputs": [],
   "source": [
    "v_dict={}\n",
    "for i in list(countris_list):\n",
    "    if i in corine_df['name'].unique():\n",
    "        temp=[]\n",
    "        for j in list(range(5)):\n",
    "            v=float(corine_df.loc[corine_df['name']==i].iloc[j]['forest'])\n",
    "            temp.append(v)\n",
    "        v_dict[i]=temp"
   ]
  },
  {
   "cell_type": "code",
   "execution_count": 27,
   "metadata": {},
   "outputs": [
    {
     "name": "stdout",
     "output_type": "stream",
     "text": [
      "Brazil [0.5851300875176487, 0.5844974150884092, 0.5840028093761946, 0.5836722731716826, 0.5842228092809392]\n",
      "China [0.256408196554299, 0.2562719965599864, 0.2561369703867806, 0.2560537437155912, 0.25600200130395423]\n",
      "India [0.23252888948639797, 0.23248503372699353, 0.23245087181950574, 0.232387776426406, 0.2322901350759497]\n",
      "Indonesia [0.84289044534298, 0.8423757000280667, 0.8416064414010203, 0.8412396597566449, 0.841660312653246]\n",
      "United States of America [0.37492974176842475, 0.374179751609139, 0.37379617915793606, 0.37343240691179636, 0.37359323726851845]\n"
     ]
    }
   ],
   "source": [
    "for i in ['Brazil','China','India','Indonesia','United States of America']:\n",
    "    print(i,v_dict[i])"
   ]
  },
  {
   "cell_type": "code",
   "execution_count": 28,
   "metadata": {
    "tags": []
   },
   "outputs": [
    {
     "name": "stdout",
     "output_type": "stream",
     "text": [
      "Brazil [0.32137108669336095, 0.2852886568047836, 0.36766834738952975, 0.3486100185944248, 0.37079677659888705]\n",
      "China [0.9987923110013611, 0.9975280593270505, 0.9986400873954951, 0.9916303696525245, 1.0]\n",
      "India [0.43939067100905127, 0.47278282371375796, 0.4904408453183638, 0.5035856784888358, 0.5163274631363549]\n",
      "Indonesia [0.13076542300353497, 0.12573784895953297, 0.1357458451935378, 0.14486871623348951, 0.12525868222409717]\n",
      "United States of America [0.8284412977684927, 0.9649453013816842, 0.8759052167294765, 0.8752802375404839, 0.8069723821146765]\n"
     ]
    }
   ],
   "source": [
    "for i in ['Brazil','China','India','Indonesia','United States of America']:\n",
    "    print(i,p_dict[i])"
   ]
  },
  {
   "cell_type": "code",
   "execution_count": 29,
   "metadata": {},
   "outputs": [],
   "source": [
    "a_df=pd.DataFrame(a_dict).fillna(0)\n",
    "v_df=pd.DataFrame(v_dict).fillna(0)\n",
    "p_df=pd.DataFrame(p_dict)[v_df.columns.tolist()].fillna(0)"
   ]
  },
  {
   "cell_type": "code",
   "execution_count": 30,
   "metadata": {},
   "outputs": [],
   "source": [
    "favi=(p_df/a_df)*v_df"
   ]
  },
  {
   "cell_type": "code",
   "execution_count": 31,
   "metadata": {
    "tags": []
   },
   "outputs": [
    {
     "data": {
      "text/plain": [
       "[inf,\n",
       " inf,\n",
       " 21.454897612634003,\n",
       " 14.684666276818206,\n",
       " 3.319010754238816,\n",
       " 3.0173978151373206,\n",
       " 2.390732894874876,\n",
       " 2.3523847982621873,\n",
       " 1.3742926752234803,\n",
       " 1.3464201662791373,\n",
       " 0.87572605321019,\n",
       " 0.6308356821308884,\n",
       " 0.3445366602860519,\n",
       " 0.31410370063672666,\n",
       " 0.2718194729126089,\n",
       " 0.23231132736572138,\n",
       " 0.2273194035506777,\n",
       " 0.22315915536931397,\n",
       " 0.22082989066300587,\n",
       " 0.2190865373069565,\n",
       " 0.21224080321793176,\n",
       " 0.1908660760628682,\n",
       " 0.18414503599271467,\n",
       " 0.1639412663703834,\n",
       " 0.1447473731477511,\n",
       " 0.13390743497863652,\n",
       " 0.12658278615355548,\n",
       " 0.10974474758572057,\n",
       " 0.08707116005726354,\n",
       " 0.07577385950891524,\n",
       " 0.06862270566610593,\n",
       " 0.0680507099363286,\n",
       " 0.06009402641308424,\n",
       " 0.05836594852571661,\n",
       " 0.05717906693717316,\n",
       " 0.0530282251034339,\n",
       " 0.050708423910725456,\n",
       " 0.049017101561016914,\n",
       " 0.0438259284659014,\n",
       " 0.04370426213033325,\n",
       " 0.04295422120979755,\n",
       " 0.04279893628391413,\n",
       " 0.03965040900848937,\n",
       " 0.038531715586944154,\n",
       " 0.03832732253785035,\n",
       " 0.03568486395164587,\n",
       " 0.035428915500010594,\n",
       " 0.03327002209751959,\n",
       " 0.029990643990728778,\n",
       " 0.029483102707170344,\n",
       " 0.029155275918586323,\n",
       " 0.029048180216983438,\n",
       " 0.02773653596049947,\n",
       " 0.025376084836085996,\n",
       " 0.02169515207772967,\n",
       " 0.02160345189240993,\n",
       " 0.018726612668076674,\n",
       " 0.018120373812019742,\n",
       " 0.01604203136725387,\n",
       " 0.015904566649944947,\n",
       " 0.015705910255002384,\n",
       " 0.01564370033450765,\n",
       " 0.015425868645091224,\n",
       " 0.013070111290112303,\n",
       " 0.011230875438571927,\n",
       " 0.01078110309350093,\n",
       " 0.009736226706287892,\n",
       " 0.00955384719466563,\n",
       " 0.009156457708013798,\n",
       " 0.007868902170882645,\n",
       " 0.007818629213813391,\n",
       " 0.007258302843202983,\n",
       " 0.007033211053172441,\n",
       " 0.006664890168241894,\n",
       " 0.00657084221795754,\n",
       " 0.006344487369903675,\n",
       " 0.0060019137948138105,\n",
       " 0.005919032234614278,\n",
       " 0.005865955487070424,\n",
       " 0.005274082658481296,\n",
       " 0.004935235608922064,\n",
       " 0.0047995257648557575,\n",
       " 0.00458106147561198,\n",
       " 0.004381309914596874,\n",
       " 0.004093746964244352,\n",
       " 0.004052047836951743,\n",
       " 0.003927495503765553,\n",
       " 0.00358310379876391,\n",
       " 0.0030419790156281704,\n",
       " 0.0027157741519196537,\n",
       " 0.002714640239629653,\n",
       " 0.0025267498517913636,\n",
       " 0.002496891578104042,\n",
       " 0.0023919786182633345,\n",
       " 0.00235113280088617,\n",
       " 0.0020266198959304816,\n",
       " 0.0017400212323181146,\n",
       " 0.0017274076040688592,\n",
       " 0.0017264333754102622,\n",
       " 0.0015571570625370682,\n",
       " 0.001426223887302939,\n",
       " 0.0013842409671997714,\n",
       " 0.0013073518207514698,\n",
       " 0.0010406623237308819,\n",
       " 0.000955940638646332,\n",
       " 0.0008626103832436755,\n",
       " 0.0008100618552450367,\n",
       " 0.000779104085532499,\n",
       " 0.0007427297977823515,\n",
       " 0.0005972632693698248,\n",
       " 0.00048002005645434944,\n",
       " 0.00033109038010622875,\n",
       " 0.0003270669132942626,\n",
       " 0.00028637096929263117,\n",
       " 0.0002565373665482909,\n",
       " 0.00021069918438168633,\n",
       " 0.00021038465092417706,\n",
       " 0.00020111329166061504,\n",
       " 0.0001994361037370319,\n",
       " 0.0001187653585339372,\n",
       " 0.00010851497128689613,\n",
       " 7.298843029298538e-05,\n",
       " 6.894749488569978e-05,\n",
       " 5.207677889594049e-05,\n",
       " 3.669314233448532e-05,\n",
       " 3.509777858041768e-05,\n",
       " 3.3080758219712705e-05,\n",
       " 2.8318407953289906e-05,\n",
       " 2.6067034352165684e-05,\n",
       " 1.9282492788517033e-05,\n",
       " 6.457951576158132e-06,\n",
       " 5.760495608167477e-06,\n",
       " 2.6889343707656786e-06,\n",
       " 2.4241446594055887e-06,\n",
       " 2.0362952361005157e-06,\n",
       " 7.24942092644805e-07,\n",
       " 2.0203185861488466e-08,\n",
       " 5.7567253926603925e-09,\n",
       " 0.0,\n",
       " 0.0,\n",
       " 0.0,\n",
       " 0.0,\n",
       " 0.0,\n",
       " 0.0,\n",
       " 0.0,\n",
       " 0.0,\n",
       " 0.0,\n",
       " 0.0,\n",
       " 0.0,\n",
       " 0.0,\n",
       " 0.0,\n",
       " 0.0,\n",
       " 0.0,\n",
       " 0.0,\n",
       " 0.0,\n",
       " 0.0]"
      ]
     },
     "execution_count": 31,
     "metadata": {},
     "output_type": "execute_result"
    }
   ],
   "source": [
    "sorted(favi.max(),reverse=True)"
   ]
  },
  {
   "cell_type": "markdown",
   "metadata": {},
   "source": [
    "Corrigir valores que deram inf"
   ]
  },
  {
   "cell_type": "code",
   "execution_count": 32,
   "metadata": {},
   "outputs": [
    {
     "data": {
      "text/html": [
       "<div>\n",
       "<style scoped>\n",
       "    .dataframe tbody tr th:only-of-type {\n",
       "        vertical-align: middle;\n",
       "    }\n",
       "\n",
       "    .dataframe tbody tr th {\n",
       "        vertical-align: top;\n",
       "    }\n",
       "\n",
       "    .dataframe thead th {\n",
       "        text-align: right;\n",
       "    }\n",
       "</style>\n",
       "<table border=\"1\" class=\"dataframe\">\n",
       "  <thead>\n",
       "    <tr style=\"text-align: right;\">\n",
       "      <th></th>\n",
       "      <th>Afghanistan</th>\n",
       "      <th>Albania</th>\n",
       "      <th>Algeria</th>\n",
       "      <th>Angola</th>\n",
       "      <th>Argentina</th>\n",
       "      <th>Armenia</th>\n",
       "      <th>Australia</th>\n",
       "      <th>Austria</th>\n",
       "      <th>Azerbaijan</th>\n",
       "      <th>Bangladesh</th>\n",
       "      <th>...</th>\n",
       "      <th>United Republic of Tanzania</th>\n",
       "      <th>United States of America</th>\n",
       "      <th>Uruguay</th>\n",
       "      <th>Uzbekistan</th>\n",
       "      <th>Vanuatu</th>\n",
       "      <th>Venezuela</th>\n",
       "      <th>Vietnam</th>\n",
       "      <th>Yemen</th>\n",
       "      <th>Zambia</th>\n",
       "      <th>Zimbabwe</th>\n",
       "    </tr>\n",
       "  </thead>\n",
       "  <tbody>\n",
       "    <tr>\n",
       "      <th>0</th>\n",
       "      <td>0.002027</td>\n",
       "      <td>0.0</td>\n",
       "      <td>0.001632</td>\n",
       "      <td>0.046467</td>\n",
       "      <td>0.155700</td>\n",
       "      <td>0.0</td>\n",
       "      <td>0.196674</td>\n",
       "      <td>0.012939</td>\n",
       "      <td>0.001069</td>\n",
       "      <td>0.035786</td>\n",
       "      <td>...</td>\n",
       "      <td>0.028777</td>\n",
       "      <td>2.022880</td>\n",
       "      <td>0.007033</td>\n",
       "      <td>0.000000</td>\n",
       "      <td>inf</td>\n",
       "      <td>0.099513</td>\n",
       "      <td>0.227319</td>\n",
       "      <td>0.000037</td>\n",
       "      <td>0.037340</td>\n",
       "      <td>0.001904</td>\n",
       "    </tr>\n",
       "    <tr>\n",
       "      <th>1</th>\n",
       "      <td>0.001952</td>\n",
       "      <td>0.0</td>\n",
       "      <td>0.001495</td>\n",
       "      <td>0.054601</td>\n",
       "      <td>0.156067</td>\n",
       "      <td>0.0</td>\n",
       "      <td>0.179114</td>\n",
       "      <td>0.015905</td>\n",
       "      <td>0.001171</td>\n",
       "      <td>0.035099</td>\n",
       "      <td>...</td>\n",
       "      <td>0.030734</td>\n",
       "      <td>2.352385</td>\n",
       "      <td>0.005918</td>\n",
       "      <td>0.000211</td>\n",
       "      <td>inf</td>\n",
       "      <td>0.090322</td>\n",
       "      <td>0.220890</td>\n",
       "      <td>0.000029</td>\n",
       "      <td>0.040272</td>\n",
       "      <td>0.001574</td>\n",
       "    </tr>\n",
       "    <tr>\n",
       "      <th>2</th>\n",
       "      <td>0.001778</td>\n",
       "      <td>0.0</td>\n",
       "      <td>0.001473</td>\n",
       "      <td>0.058112</td>\n",
       "      <td>0.173855</td>\n",
       "      <td>0.0</td>\n",
       "      <td>0.271819</td>\n",
       "      <td>0.013701</td>\n",
       "      <td>0.001165</td>\n",
       "      <td>0.037850</td>\n",
       "      <td>...</td>\n",
       "      <td>0.033352</td>\n",
       "      <td>2.132098</td>\n",
       "      <td>0.006432</td>\n",
       "      <td>0.000183</td>\n",
       "      <td>inf</td>\n",
       "      <td>0.083087</td>\n",
       "      <td>0.220011</td>\n",
       "      <td>0.000029</td>\n",
       "      <td>0.050708</td>\n",
       "      <td>0.004206</td>\n",
       "    </tr>\n",
       "    <tr>\n",
       "      <th>3</th>\n",
       "      <td>0.001467</td>\n",
       "      <td>0.0</td>\n",
       "      <td>0.002351</td>\n",
       "      <td>0.067297</td>\n",
       "      <td>0.140631</td>\n",
       "      <td>0.0</td>\n",
       "      <td>0.179512</td>\n",
       "      <td>0.013617</td>\n",
       "      <td>0.001295</td>\n",
       "      <td>0.038105</td>\n",
       "      <td>...</td>\n",
       "      <td>0.035429</td>\n",
       "      <td>2.124290</td>\n",
       "      <td>0.003559</td>\n",
       "      <td>0.000159</td>\n",
       "      <td>inf</td>\n",
       "      <td>0.109745</td>\n",
       "      <td>0.226015</td>\n",
       "      <td>0.000027</td>\n",
       "      <td>0.034565</td>\n",
       "      <td>0.004381</td>\n",
       "    </tr>\n",
       "    <tr>\n",
       "      <th>4</th>\n",
       "      <td>0.001933</td>\n",
       "      <td>0.0</td>\n",
       "      <td>0.002279</td>\n",
       "      <td>0.068623</td>\n",
       "      <td>0.184145</td>\n",
       "      <td>0.0</td>\n",
       "      <td>0.147141</td>\n",
       "      <td>0.015204</td>\n",
       "      <td>0.001384</td>\n",
       "      <td>0.038327</td>\n",
       "      <td>...</td>\n",
       "      <td>0.033414</td>\n",
       "      <td>1.958575</td>\n",
       "      <td>0.006221</td>\n",
       "      <td>0.000180</td>\n",
       "      <td>inf</td>\n",
       "      <td>0.093019</td>\n",
       "      <td>0.223727</td>\n",
       "      <td>0.000031</td>\n",
       "      <td>0.029872</td>\n",
       "      <td>0.001605</td>\n",
       "    </tr>\n",
       "  </tbody>\n",
       "</table>\n",
       "<p>5 rows × 156 columns</p>\n",
       "</div>"
      ],
      "text/plain": [
       "   Afghanistan  Albania   Algeria    Angola  Argentina  Armenia  Australia  \\\n",
       "0     0.002027      0.0  0.001632  0.046467   0.155700      0.0   0.196674   \n",
       "1     0.001952      0.0  0.001495  0.054601   0.156067      0.0   0.179114   \n",
       "2     0.001778      0.0  0.001473  0.058112   0.173855      0.0   0.271819   \n",
       "3     0.001467      0.0  0.002351  0.067297   0.140631      0.0   0.179512   \n",
       "4     0.001933      0.0  0.002279  0.068623   0.184145      0.0   0.147141   \n",
       "\n",
       "    Austria  Azerbaijan  Bangladesh  ...  United Republic of Tanzania  \\\n",
       "0  0.012939    0.001069    0.035786  ...                     0.028777   \n",
       "1  0.015905    0.001171    0.035099  ...                     0.030734   \n",
       "2  0.013701    0.001165    0.037850  ...                     0.033352   \n",
       "3  0.013617    0.001295    0.038105  ...                     0.035429   \n",
       "4  0.015204    0.001384    0.038327  ...                     0.033414   \n",
       "\n",
       "   United States of America   Uruguay  Uzbekistan  Vanuatu  Venezuela  \\\n",
       "0                  2.022880  0.007033    0.000000      inf   0.099513   \n",
       "1                  2.352385  0.005918    0.000211      inf   0.090322   \n",
       "2                  2.132098  0.006432    0.000183      inf   0.083087   \n",
       "3                  2.124290  0.003559    0.000159      inf   0.109745   \n",
       "4                  1.958575  0.006221    0.000180      inf   0.093019   \n",
       "\n",
       "    Vietnam     Yemen    Zambia  Zimbabwe  \n",
       "0  0.227319  0.000037  0.037340  0.001904  \n",
       "1  0.220890  0.000029  0.040272  0.001574  \n",
       "2  0.220011  0.000029  0.050708  0.004206  \n",
       "3  0.226015  0.000027  0.034565  0.004381  \n",
       "4  0.223727  0.000031  0.029872  0.001605  \n",
       "\n",
       "[5 rows x 156 columns]"
      ]
     },
     "execution_count": 32,
     "metadata": {},
     "output_type": "execute_result"
    }
   ],
   "source": [
    "favi.head()"
   ]
  },
  {
   "cell_type": "code",
   "execution_count": 33,
   "metadata": {
    "tags": []
   },
   "outputs": [
    {
     "data": {
      "text/plain": [
       "[inf,\n",
       " inf,\n",
       " 21.454897612634003,\n",
       " 14.684666276818206,\n",
       " 3.319010754238816,\n",
       " 3.0173978151373206,\n",
       " 2.390732894874876,\n",
       " 2.3523847982621873,\n",
       " 1.3742926752234803,\n",
       " 1.3464201662791373,\n",
       " 0.87572605321019,\n",
       " 0.6308356821308884,\n",
       " 0.3445366602860519,\n",
       " 0.31410370063672666,\n",
       " 0.2718194729126089,\n",
       " 0.23231132736572138,\n",
       " 0.2273194035506777,\n",
       " 0.22315915536931397,\n",
       " 0.22082989066300587,\n",
       " 0.2190865373069565,\n",
       " 0.21224080321793176,\n",
       " 0.1908660760628682,\n",
       " 0.18414503599271467,\n",
       " 0.1639412663703834,\n",
       " 0.1447473731477511,\n",
       " 0.13390743497863652,\n",
       " 0.12658278615355548,\n",
       " 0.10974474758572057,\n",
       " 0.08707116005726354,\n",
       " 0.07577385950891524,\n",
       " 0.06862270566610593,\n",
       " 0.0680507099363286,\n",
       " 0.06009402641308424,\n",
       " 0.05836594852571661,\n",
       " 0.05717906693717316,\n",
       " 0.0530282251034339,\n",
       " 0.050708423910725456,\n",
       " 0.049017101561016914,\n",
       " 0.0438259284659014,\n",
       " 0.04370426213033325,\n",
       " 0.04295422120979755,\n",
       " 0.04279893628391413,\n",
       " 0.03965040900848937,\n",
       " 0.038531715586944154,\n",
       " 0.03832732253785035,\n",
       " 0.03568486395164587,\n",
       " 0.035428915500010594,\n",
       " 0.03327002209751959,\n",
       " 0.029990643990728778,\n",
       " 0.029483102707170344,\n",
       " 0.029155275918586323,\n",
       " 0.029048180216983438,\n",
       " 0.02773653596049947,\n",
       " 0.025376084836085996,\n",
       " 0.02169515207772967,\n",
       " 0.02160345189240993,\n",
       " 0.018726612668076674,\n",
       " 0.018120373812019742,\n",
       " 0.01604203136725387,\n",
       " 0.015904566649944947,\n",
       " 0.015705910255002384,\n",
       " 0.01564370033450765,\n",
       " 0.015425868645091224,\n",
       " 0.013070111290112303,\n",
       " 0.011230875438571927,\n",
       " 0.01078110309350093,\n",
       " 0.009736226706287892,\n",
       " 0.00955384719466563,\n",
       " 0.009156457708013798,\n",
       " 0.007868902170882645,\n",
       " 0.007818629213813391,\n",
       " 0.007258302843202983,\n",
       " 0.007033211053172441,\n",
       " 0.006664890168241894,\n",
       " 0.00657084221795754,\n",
       " 0.006344487369903675,\n",
       " 0.0060019137948138105,\n",
       " 0.005919032234614278,\n",
       " 0.005865955487070424,\n",
       " 0.005274082658481296,\n",
       " 0.004935235608922064,\n",
       " 0.0047995257648557575,\n",
       " 0.00458106147561198,\n",
       " 0.004381309914596874,\n",
       " 0.004093746964244352,\n",
       " 0.004052047836951743,\n",
       " 0.003927495503765553,\n",
       " 0.00358310379876391,\n",
       " 0.0030419790156281704,\n",
       " 0.0027157741519196537,\n",
       " 0.002714640239629653,\n",
       " 0.0025267498517913636,\n",
       " 0.002496891578104042,\n",
       " 0.0023919786182633345,\n",
       " 0.00235113280088617,\n",
       " 0.0020266198959304816,\n",
       " 0.0017400212323181146,\n",
       " 0.0017274076040688592,\n",
       " 0.0017264333754102622,\n",
       " 0.0015571570625370682,\n",
       " 0.001426223887302939,\n",
       " 0.0013842409671997714,\n",
       " 0.0013073518207514698,\n",
       " 0.0010406623237308819,\n",
       " 0.000955940638646332,\n",
       " 0.0008626103832436755,\n",
       " 0.0008100618552450367,\n",
       " 0.000779104085532499,\n",
       " 0.0007427297977823515,\n",
       " 0.0005972632693698248,\n",
       " 0.00048002005645434944,\n",
       " 0.00033109038010622875,\n",
       " 0.0003270669132942626,\n",
       " 0.00028637096929263117,\n",
       " 0.0002565373665482909,\n",
       " 0.00021069918438168633,\n",
       " 0.00021038465092417706,\n",
       " 0.00020111329166061504,\n",
       " 0.0001994361037370319,\n",
       " 0.0001187653585339372,\n",
       " 0.00010851497128689613,\n",
       " 7.298843029298538e-05,\n",
       " 6.894749488569978e-05,\n",
       " 5.207677889594049e-05,\n",
       " 3.669314233448532e-05,\n",
       " 3.509777858041768e-05,\n",
       " 3.3080758219712705e-05,\n",
       " 2.8318407953289906e-05,\n",
       " 2.6067034352165684e-05,\n",
       " 1.9282492788517033e-05,\n",
       " 6.457951576158132e-06,\n",
       " 5.760495608167477e-06,\n",
       " 2.6889343707656786e-06,\n",
       " 2.4241446594055887e-06,\n",
       " 2.0362952361005157e-06,\n",
       " 7.24942092644805e-07,\n",
       " 2.0203185861488466e-08,\n",
       " 5.7567253926603925e-09,\n",
       " 0.0,\n",
       " 0.0,\n",
       " 0.0,\n",
       " 0.0,\n",
       " 0.0,\n",
       " 0.0,\n",
       " 0.0,\n",
       " 0.0,\n",
       " 0.0,\n",
       " 0.0,\n",
       " 0.0,\n",
       " 0.0,\n",
       " 0.0,\n",
       " 0.0,\n",
       " 0.0,\n",
       " 0.0,\n",
       " 0.0,\n",
       " 0.0]"
      ]
     },
     "execution_count": 33,
     "metadata": {},
     "output_type": "execute_result"
    }
   ],
   "source": [
    "sorted(favi.max(),reverse=True)"
   ]
  },
  {
   "cell_type": "code",
   "execution_count": 34,
   "metadata": {
    "tags": []
   },
   "outputs": [
    {
     "data": {
      "text/plain": [
       "(array([2]), array([131]))"
      ]
     },
     "execution_count": 34,
     "metadata": {},
     "output_type": "execute_result"
    }
   ],
   "source": [
    "np.where(np.array(favi)==21.454897612634003)"
   ]
  },
  {
   "cell_type": "code",
   "execution_count": 35,
   "metadata": {},
   "outputs": [
    {
     "data": {
      "text/plain": [
       "(array([0]), array([79]))"
      ]
     },
     "execution_count": 35,
     "metadata": {},
     "output_type": "execute_result"
    }
   ],
   "source": [
    "np.where(np.array(favi)== 14.684666276818206)"
   ]
  },
  {
   "cell_type": "code",
   "execution_count": 36,
   "metadata": {},
   "outputs": [
    {
     "data": {
      "text/plain": [
       "(array([2]), array([49]))"
      ]
     },
     "execution_count": 36,
     "metadata": {},
     "output_type": "execute_result"
    }
   ],
   "source": [
    "np.where(np.array(favi)==  3.319010754238816)"
   ]
  },
  {
   "cell_type": "code",
   "execution_count": 37,
   "metadata": {},
   "outputs": [
    {
     "data": {
      "text/plain": [
       "(array([0, 0, 1, 2, 2, 3, 3, 4, 4]),\n",
       " array([124, 150, 150, 124, 150, 124, 150, 124, 150]))"
      ]
     },
     "execution_count": 37,
     "metadata": {},
     "output_type": "execute_result"
    }
   ],
   "source": [
    "np.where(np.isinf(np.array(favi)))"
   ]
  },
  {
   "cell_type": "code",
   "execution_count": 38,
   "metadata": {},
   "outputs": [
    {
     "data": {
      "text/plain": [
       "'Gabon'"
      ]
     },
     "execution_count": 38,
     "metadata": {},
     "output_type": "execute_result"
    }
   ],
   "source": [
    "favi.columns.tolist()[49]"
   ]
  },
  {
   "cell_type": "code",
   "execution_count": 39,
   "metadata": {},
   "outputs": [
    {
     "data": {
      "text/plain": [
       "'Suriname'"
      ]
     },
     "execution_count": 39,
     "metadata": {},
     "output_type": "execute_result"
    }
   ],
   "source": [
    "favi.columns.tolist()[131]"
   ]
  },
  {
   "cell_type": "code",
   "execution_count": 40,
   "metadata": {},
   "outputs": [
    {
     "data": {
      "text/plain": [
       "'Liberia'"
      ]
     },
     "execution_count": 40,
     "metadata": {},
     "output_type": "execute_result"
    }
   ],
   "source": [
    "favi.columns.tolist()[79]"
   ]
  },
  {
   "cell_type": "code",
   "execution_count": 41,
   "metadata": {},
   "outputs": [
    {
     "name": "stdout",
     "output_type": "stream",
     "text": [
      "Valores inf: Solomon Islands Vanuatu\n"
     ]
    }
   ],
   "source": [
    "print(\"Valores inf:\",favi.columns.tolist()[124],favi.columns.tolist()[150])"
   ]
  },
  {
   "cell_type": "code",
   "execution_count": 42,
   "metadata": {},
   "outputs": [
    {
     "data": {
      "text/plain": [
       "<matplotlib.legend.Legend at 0x7fc0215caa50>"
      ]
     },
     "execution_count": 42,
     "metadata": {},
     "output_type": "execute_result"
    },
    {
     "data": {
      "image/png": "[encoded data removed]",
      "text/plain": [
       "<Figure size 432x288 with 1 Axes>"
      ]
     },
     "metadata": {
      "needs_background": "light"
     },
     "output_type": "display_data"
    }
   ],
   "source": [
    "year=[2015,2016,2017,2018,2019]\n",
    "plt.plot(year,favi['Brazil'],label='Brasil')\n",
    "plt.plot(year,favi['China'],label='China')\n",
    "plt.plot(year,favi['United States of America'],label='USA')\n",
    "plt.plot(year,favi['India'], label='India')\n",
    "plt.plot(year,favi['Indonesia'], label='Indonesia')\n",
    "plt.legend()"
   ]
  },
  {
   "cell_type": "code",
   "execution_count": 43,
   "metadata": {},
   "outputs": [],
   "source": [
    "remove=['Brazil','Suriname','Liberia','Gabon']\n",
    "plot_list=list(set(favi.columns.tolist())-set(remove))"
   ]
  },
  {
   "cell_type": "code",
   "execution_count": 44,
   "metadata": {},
   "outputs": [
    {
     "data": {
      "text/plain": [
       "<matplotlib.legend.Legend at 0x7fc021342850>"
      ]
     },
     "execution_count": 44,
     "metadata": {},
     "output_type": "execute_result"
    },
    {
     "data": {
      "image/png": "[encoded data removed]",
      "text/plain": [
       "<Figure size 432x288 with 1 Axes>"
      ]
     },
     "metadata": {
      "needs_background": "light"
     },
     "output_type": "display_data"
    }
   ],
   "source": [
    "for i in plot_list:\n",
    "    plt.plot(year,favi[i],'black')\n",
    "plt.plot(year,favi['Brazil'],'r',label='Brazil')\n",
    "plt.plot(year,favi['Gabon'],'b',label='Gabon')\n",
    "plt.plot(year,favi['Suriname'],'orange',label='Suriname')\n",
    "plt.plot(year,favi['Liberia'],'green',label='Liberia')\n",
    "plt.xticks(year)\n",
    "plt.legend()"
   ]
  },
  {
   "cell_type": "code",
   "execution_count": 45,
   "metadata": {},
   "outputs": [
    {
     "data": {
      "text/plain": [
       "<matplotlib.legend.Legend at 0x7fc021339490>"
      ]
     },
     "execution_count": 45,
     "metadata": {},
     "output_type": "execute_result"
    },
    {
     "data": {
      "image/png": "[encoded data removed]",
      "text/plain": [
       "<Figure size 432x288 with 1 Axes>"
      ]
     },
     "metadata": {
      "needs_background": "light"
     },
     "output_type": "display_data"
    }
   ],
   "source": [
    "for i in plot_list:\n",
    "    plt.plot(year,favi[i],'black')\n",
    "plt.plot(year,favi['Brazil'],'r',label='Brazil')\n",
    "plt.plot(year,favi['Gabon'],'b',label='Gabon')\n",
    "plt.xticks(year)\n",
    "plt.legend()"
   ]
  },
  {
   "cell_type": "code",
   "execution_count": 46,
   "metadata": {},
   "outputs": [],
   "source": [
    "remove2=['Solomon Islands','Vanuatu']\n",
    "col_mean=list(set(favi.columns.tolist())-set(remove2))"
   ]
  },
  {
   "cell_type": "code",
   "execution_count": 47,
   "metadata": {},
   "outputs": [
    {
     "data": {
      "text/plain": [
       "<matplotlib.legend.Legend at 0x7fc020edef50>"
      ]
     },
     "execution_count": 47,
     "metadata": {},
     "output_type": "execute_result"
    },
    {
     "data": {
      "image/png": "[encoded data removed]",
      "text/plain": [
       "<Figure size 432x288 with 1 Axes>"
      ]
     },
     "metadata": {
      "needs_background": "light"
     },
     "output_type": "display_data"
    }
   ],
   "source": [
    "for i in plot_list:\n",
    "    plt.plot(year,favi[i],'black')\n",
    "plt.plot(year,favi['Brazil'],'r',label='Brazil')\n",
    "plt.plot(year,favi['Gabon'],'b',label='Gabon')\n",
    "plt.plot(year,favi[col_mean].mean(axis=1),'green',label='mean')\n",
    "plt.xticks(year)\n",
    "plt.legend()"
   ]
  },
  {
   "cell_type": "code",
   "execution_count": 48,
   "metadata": {},
   "outputs": [
    {
     "data": {
      "text/plain": [
       "<matplotlib.legend.Legend at 0x7fc020cbdf90>"
      ]
     },
     "execution_count": 48,
     "metadata": {},
     "output_type": "execute_result"
    },
    {
     "data": {
      "image/png": "[encoded data removed]",
      "text/plain": [
       "<Figure size 432x288 with 1 Axes>"
      ]
     },
     "metadata": {
      "needs_background": "light"
     },
     "output_type": "display_data"
    }
   ],
   "source": [
    "for i in plot_list:\n",
    "    plt.plot(year,favi[i],'black')\n",
    "plt.plot(year,favi['Brazil'],'r',label='Brazil')\n",
    "plt.plot(year,favi['Gabon'],'b',label='Gabon')\n",
    "plt.plot(year,favi['Suriname'],'orange',label='Suriname')\n",
    "plt.plot(year,favi['Liberia'],'green',label='Liberia')\n",
    "plt.plot(year,favi[col_mean].mean(axis=1),'pink',label='mean')\n",
    "plt.xticks(year)\n",
    "plt.legend()"
   ]
  }
 ],
 "metadata": {
  "kernelspec": {
   "display_name": "Python 3",
   "language": "python",
   "name": "python3"
  },
  "language_info": {
   "codemirror_mode": {
    "name": "ipython",
    "version": 3
   },
   "file_extension": ".py",
   "mimetype": "text/x-python",
   "name": "python",
   "nbconvert_exporter": "python",
   "pygments_lexer": "ipython3",
   "version": "3.7.6"
  }
 },
 "nbformat": 4,
 "nbformat_minor": 4
}
